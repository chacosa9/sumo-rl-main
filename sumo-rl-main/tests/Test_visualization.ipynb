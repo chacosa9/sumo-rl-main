{
 "cells": [
  {
   "cell_type": "code",
   "execution_count": null,
   "metadata": {},
   "outputs": [],
   "source": [
    "import os\n",
    "import pandas as pd\n",
    "import matplotlib.pyplot as plt\n",
    "\n",
    "# Path to the folder containing the test result files\n",
    "folder_path = '/Users/rakanalrasheed/Desktop/SDAIA Bootcamp/Capstone/sumo-rl-main/sumo-rl-main/tests/test_results'\n",
    "\n",
    "# Define which columns to plot\n",
    "columns_to_plot = ['system_total_stopped', 'system_total_waiting_time', 'system_mean_waiting_time', 'system_mean_speed']\n",
    "\n",
    "def process_file(file_path):\n",
    "    # Read the CSV file into a DataFrame\n",
    "    df = pd.read_csv(file_path)\n",
    "    \n",
    "    # Clean the DataFrame by dropping rows where all values are NaN (empty rows)\n",
    "    df.dropna(how='all', inplace=True)\n",
    "    \n",
    "    # Return the cleaned DataFrame\n",
    "    return df\n",
    "\n",
    "def plot_results(df, episode_name):\n",
    "    for column in columns_to_plot:\n",
    "        plt.plot(df['step'], df[column], label=column)\n",
    "\n",
    "    plt.xlabel('Step')\n",
    "    plt.ylabel('Value')\n",
    "    plt.title(f'Results for {episode_name}')\n",
    "    plt.legend()\n",
    "    plt.grid(True)\n",
    "    plt.show()\n",
    "\n",
    "def main():\n",
    "    # Iterate over all CSV files in the folder\n",
    "    for file_name in os.listdir(folder_path):\n",
    "        if file_name.endswith('.csv'):\n",
    "            # Create the full path to the file\n",
    "            file_path = os.path.join(folder_path, file_name)\n",
    "            \n",
    "            # Process the file and get the DataFrame\n",
    "            df = process_file(file_path)\n",
    "            \n",
    "            # Plot the results for the episode (use the file name as the episode name)\n",
    "            episode_name = file_name.split('.')[0]\n",
    "            plot_results(df, episode_name)\n",
    "\n",
    "if __name__ == '__main__':\n",
    "    main()\n"
   ]
  }
 ],
 "metadata": {
  "language_info": {
   "name": "python"
  }
 },
 "nbformat": 4,
 "nbformat_minor": 2
}
